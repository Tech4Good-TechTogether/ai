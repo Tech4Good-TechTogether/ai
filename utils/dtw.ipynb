{
 "cells": [
  {
   "cell_type": "code",
   "execution_count": 1,
   "metadata": {},
   "outputs": [],
   "source": [
    "import os\n",
    "import pickle\n",
    "\n",
    "\n",
    "hand_landmarks_dict = {\n",
    "    0: \"WRIST\",\n",
    "    1: \"THUMB_CMC\",\n",
    "    2: \"THUMB_MCP\",\n",
    "    3: \"THUMB_IP\",\n",
    "    4: \"THUMB_TIP\",\n",
    "    5: \"INDEX_FINGER_MCP\",\n",
    "    6: \"INDEX_FINGER_PIP\",\n",
    "    7: \"INDEX_FINGER_DIP\",\n",
    "    8: \"INDEX_FINGER_TIP\",\n",
    "    9: \"MIDDLE_FINGER_MCP\",\n",
    "    10: \"MIDDLE_FINGER_PIP\",\n",
    "    11: \"MIDDLE_FINGER_DIP\",\n",
    "    12: \"MIDDLE_FINGER_TIP\",\n",
    "    13: \"RING_FINGER_MCP\",\n",
    "    14: \"RING_FINGER_PIP\",\n",
    "    15: \"RING_FINGER_DIP\",\n",
    "    16: \"RING_FINGER_TIP\",\n",
    "    17: \"PINKY_MCP\",\n",
    "    18: \"PINKY_PIP\",\n",
    "    19: \"PINKY_DIP\",\n",
    "    20: \"PINKY_TIP\"\n",
    "}\n",
    "\n",
    "# static/landmarks 폴더의 절대 경로를 계산\n",
    "landmarks_path = os.path.join('guide_landmarks.pkl')\n",
    "\n",
    "# 가이드 영상의 좌표를 미리 로드\n",
    "with open(landmarks_path, 'rb') as f:\n",
    "    guide_landmarks = pickle.load(f)"
   ]
  },
  {
   "cell_type": "code",
   "execution_count": 2,
   "metadata": {},
   "outputs": [],
   "source": [
    "import numpy as np"
   ]
  },
  {
   "cell_type": "code",
   "execution_count": 3,
   "metadata": {},
   "outputs": [],
   "source": [
    "from dtw import accelerated_dtw\n",
    "from scipy.spatial.distance import euclidean, cosine\n",
    "\n",
    "def compare_joint(series_a, series_b):\n",
    "    # frame_num, joint_num, 3(x,y,z)\n",
    "    sim = 0\n",
    "    for joint_a, joint_b in zip(series_a, series_b):\n",
    "        dist, _, _, _ = accelerated_dtw(joint_a, joint_b, dist=\"matching\")\n",
    "        sim += dist\n",
    "    sim /= len(series_a)\n",
    "    return sim"
   ]
  },
  {
   "cell_type": "code",
   "execution_count": 12,
   "metadata": {},
   "outputs": [],
   "source": [
    "def compare_hand(guide_landmarks, result_landmarks):\n",
    "    guide_landmarks = np.array(guide_landmarks)\n",
    "    result_landmarks = np.array(result_landmarks)\n",
    "    \n",
    "    dist_joints = []\n",
    "    max_joint = [None,None]\n",
    "    \n",
    "    for i in range(2):\n",
    "        guide_hand = guide_landmarks[:,i,:,:]\n",
    "        result_hand = result_landmarks[:,i,:,:]\n",
    "        hand_joints = []\n",
    "        \n",
    "        for joint in range(21):\n",
    "            series_a = guide_hand[:,joint,:]\n",
    "            series_b = result_hand[:,joint,:]\n",
    "            dist = compare_joint(series_a, series_b)\n",
    "            hand_joints.append(dist)\n",
    "            \n",
    "        dist_joints.append(hand_joints)\n",
    "        if max(hand_joints)>0.1:\n",
    "            max_idx=np.argmax(hand_joints)\n",
    "            max_joint[i] = hand_landmarks_dict[max_idx]\n",
    "    \n",
    "    return max(dist_joints[0]), max_joint"
   ]
  },
  {
   "cell_type": "code",
   "execution_count": 13,
   "metadata": {},
   "outputs": [
    {
     "data": {
      "text/plain": [
       "(0.0, [None, None])"
      ]
     },
     "execution_count": 13,
     "metadata": {},
     "output_type": "execute_result"
    }
   ],
   "source": [
    "compare_hand(np.array(guide_landmarks), np.array(guide_landmarks))"
   ]
  }
 ],
 "metadata": {
  "kernelspec": {
   "display_name": "tech4good",
   "language": "python",
   "name": "python3"
  },
  "language_info": {
   "codemirror_mode": {
    "name": "ipython",
    "version": 3
   },
   "file_extension": ".py",
   "mimetype": "text/x-python",
   "name": "python",
   "nbconvert_exporter": "python",
   "pygments_lexer": "ipython3",
   "version": "3.8.13"
  }
 },
 "nbformat": 4,
 "nbformat_minor": 2
}
