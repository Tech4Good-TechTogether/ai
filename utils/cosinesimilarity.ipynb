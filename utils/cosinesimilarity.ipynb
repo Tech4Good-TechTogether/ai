{
 "cells": [
  {
   "cell_type": "code",
   "execution_count": 1,
   "metadata": {},
   "outputs": [],
   "source": [
    "from mediapipe import solutions\n",
    "from mediapipe.framework.formats import landmark_pb2\n",
    "import numpy as np\n",
    "\n",
    "import cv2\n",
    "\n",
    "from mediapipe import solutions\n",
    "from mediapipe.framework.formats import landmark_pb2\n",
    "import numpy as np\n",
    "\n",
    "import mediapipe as mp\n",
    "from sklearn.metrics.pairwise import cosine_similarity\n"
   ]
  },
  {
   "cell_type": "code",
   "execution_count": 2,
   "metadata": {},
   "outputs": [],
   "source": [
    "# 색상 팔레트\n",
    "colors={\n",
    "    \"purple_1\":[120, 58, 221],\n",
    "    \"purple_2\":[147, 97, 228],\n",
    "    \"purple_3\":[174, 137, 235],\n",
    "    \"purple_4\":[201, 176, 241],\n",
    "    \"purple_5\":[228, 216, 248]\n",
    "}"
   ]
  },
  {
   "cell_type": "code",
   "execution_count": 3,
   "metadata": {},
   "outputs": [],
   "source": [
    "\n",
    "hand_landmarks_dict = {\n",
    "    0: \"WRIST\",\n",
    "    1: \"THUMB_CMC\",\n",
    "    2: \"THUMB_MCP\",\n",
    "    3: \"THUMB_IP\",\n",
    "    4: \"THUMB_TIP\",\n",
    "    5: \"INDEX_FINGER_MCP\",\n",
    "    6: \"INDEX_FINGER_PIP\",\n",
    "    7: \"INDEX_FINGER_DIP\",\n",
    "    8: \"INDEX_FINGER_TIP\",\n",
    "    9: \"MIDDLE_FINGER_MCP\",\n",
    "    10: \"MIDDLE_FINGER_PIP\",\n",
    "    11: \"MIDDLE_FINGER_DIP\",\n",
    "    12: \"MIDDLE_FINGER_TIP\",\n",
    "    13: \"RING_FINGER_MCP\",\n",
    "    14: \"RING_FINGER_PIP\",\n",
    "    15: \"RING_FINGER_DIP\",\n",
    "    16: \"RING_FINGER_TIP\",\n",
    "    17: \"PINKY_MCP\",\n",
    "    18: \"PINKY_PIP\",\n",
    "    19: \"PINKY_DIP\",\n",
    "    20: \"PINKY_TIP\"\n",
    "}"
   ]
  },
  {
   "cell_type": "code",
   "execution_count": 4,
   "metadata": {},
   "outputs": [],
   "source": [
    "\n",
    "def get_hand_similarity(target_frame, web_frame, hands):\n",
    "    target_result = get_hand_landmarks(target_frame, hands)\n",
    "    web_result = get_hand_landmarks(web_frame, hands)\n",
    "    \n",
    "    target_left = target_result.multi_hand_landmarks[:21]\n",
    "    target_right = target_result.multi_hand_landmarks[21:]\n",
    "    web_left = web_result.multi_hand_landmarks[:21]\n",
    "    web_right = web_result.multi_hand_landmarks[21:]\n",
    "    left_sim = cosine_similarity(target_left,web_left)\n",
    "    right_sim = cosine_similarity(target_right,web_right)\n",
    "    \n",
    "    return left_sim, right_sim\n",
    "\n",
    "# 손 랜드마크 추출 함수\n",
    "def get_hand_landmarks(frame, hands):\n",
    "    image_rgb = cv2.cvtColor(frame, cv2.COLOR_BGR2RGB)\n",
    "    result = hands.process(image_rgb)\n",
    "    if result.multi_hand_landmarks:\n",
    "        landmarks = []\n",
    "        for hand_landmarks in result.multi_hand_landmarks:\n",
    "            for lm in hand_landmarks.landmark:\n",
    "                landmarks.append([lm.x, lm.y, lm.z])\n",
    "        return np.array(landmarks)\n",
    "    return None\n",
    "\n",
    "# Cosine Similarity 계산 함수\n",
    "def calculate_similarity(target_landmarks, web_landmarks):    \n",
    "    if target_landmarks is not None and web_landmarks is not None:\n",
    "        print(\"유사도 계산중\")\n",
    "        hand1 = target_landmarks[:21]\n",
    "        hand2 = web_landmarks[:21]\n",
    "        # 유사도 계산\n",
    "        hand1_flat = hand1.flatten().reshape(1, -1)\n",
    "        hand2_flat = hand2.flatten().reshape(1, -1)\n",
    "        similarity = cosine_similarity(hand1_flat, hand2_flat)[0][0]\n",
    "        return similarity\n",
    "    return 0\n"
   ]
  },
  {
   "cell_type": "markdown",
   "metadata": {},
   "source": [
    "### 타겟 비디오의 손 관절 측정\n"
   ]
  },
  {
   "cell_type": "markdown",
   "metadata": {},
   "source": [
    "### test code"
   ]
  },
  {
   "cell_type": "code",
   "execution_count": 5,
   "metadata": {},
   "outputs": [
    {
     "name": "stderr",
     "output_type": "stream",
     "text": [
      "WARNING: All log messages before absl::InitializeLog() is called are written to STDERR\n",
      "I0000 00:00:1724224638.626919       1 gl_context.cc:344] GL version: 2.1 (2.1 Metal - 88.1), renderer: Apple M1\n",
      "INFO: Created TensorFlow Lite XNNPACK delegate for CPU.\n"
     ]
    }
   ],
   "source": [
    "# 비디오 파일 경로\n",
    "video_path = \"../demo.mp4\"  # 여기에 비디오 파일 경로를 입력하세요\n",
    "cap = cv2.VideoCapture(video_path)\n",
    "\n",
    "# 첫 번째 프레임 읽기\n",
    "ret, first_frame = cap.read()\n",
    "mp_hands = mp.solutions.hands\n",
    "target_rgb = cv2.cvtColor(first_frame, cv2.COLOR_BGR2RGB)\n",
    "target_result = mp_hands.Hands(max_num_hands=2, min_detection_confidence=0.7, min_tracking_confidence=0.7).process(target_rgb)"
   ]
  },
  {
   "cell_type": "code",
   "execution_count": 19,
   "metadata": {},
   "outputs": [
    {
     "data": {
      "text/plain": [
       "landmark {\n",
       "  x: 0.73669076\n",
       "  y: 0.34541988\n",
       "  z: -2.2716007e-07\n",
       "}\n",
       "landmark {\n",
       "  x: 0.6755811\n",
       "  y: 0.40099394\n",
       "  z: -0.0025358044\n",
       "}\n",
       "landmark {\n",
       "  x: 0.62932277\n",
       "  y: 0.41085404\n",
       "  z: -0.016943019\n",
       "}\n",
       "landmark {\n",
       "  x: 0.5956663\n",
       "  y: 0.4317631\n",
       "  z: -0.03545364\n",
       "}\n",
       "landmark {\n",
       "  x: 0.5700112\n",
       "  y: 0.47308698\n",
       "  z: -0.055244006\n",
       "}\n",
       "landmark {\n",
       "  x: 0.59783274\n",
       "  y: 0.28585857\n",
       "  z: -0.018038545\n",
       "}\n",
       "landmark {\n",
       "  x: 0.5379142\n",
       "  y: 0.27988765\n",
       "  z: -0.04203311\n",
       "}\n",
       "landmark {\n",
       "  x: 0.50342983\n",
       "  y: 0.26411712\n",
       "  z: -0.057739023\n",
       "}\n",
       "landmark {\n",
       "  x: 0.47517896\n",
       "  y: 0.24084064\n",
       "  z: -0.07010509\n",
       "}\n",
       "landmark {\n",
       "  x: 0.6166684\n",
       "  y: 0.25366342\n",
       "  z: -0.03206445\n",
       "}\n",
       "landmark {\n",
       "  x: 0.5701693\n",
       "  y: 0.35201967\n",
       "  z: -0.061890777\n",
       "}\n",
       "landmark {\n",
       "  x: 0.6017559\n",
       "  y: 0.40315735\n",
       "  z: -0.063413166\n",
       "}\n",
       "landmark {\n",
       "  x: 0.6266854\n",
       "  y: 0.39843214\n",
       "  z: -0.06033431\n",
       "}\n",
       "landmark {\n",
       "  x: 0.6402165\n",
       "  y: 0.25091177\n",
       "  z: -0.04762047\n",
       "}\n",
       "landmark {\n",
       "  x: 0.60758793\n",
       "  y: 0.36984456\n",
       "  z: -0.06865195\n",
       "}\n",
       "landmark {\n",
       "  x: 0.63374716\n",
       "  y: 0.40054452\n",
       "  z: -0.053279806\n",
       "}\n",
       "landmark {\n",
       "  x: 0.6514054\n",
       "  y: 0.3826738\n",
       "  z: -0.040783335\n",
       "}\n",
       "landmark {\n",
       "  x: 0.6641345\n",
       "  y: 0.26929662\n",
       "  z: -0.06499707\n",
       "}\n",
       "landmark {\n",
       "  x: 0.6359912\n",
       "  y: 0.36247623\n",
       "  z: -0.076149456\n",
       "}\n",
       "landmark {\n",
       "  x: 0.6512741\n",
       "  y: 0.3905546\n",
       "  z: -0.06505724\n",
       "}\n",
       "landmark {\n",
       "  x: 0.66489094\n",
       "  y: 0.37936234\n",
       "  z: -0.05546471\n",
       "}"
      ]
     },
     "execution_count": 19,
     "metadata": {},
     "output_type": "execute_result"
    }
   ],
   "source": [
    "target_result.multi_hand_landmarks[0].land"
   ]
  },
  {
   "cell_type": "code",
   "execution_count": 23,
   "metadata": {},
   "outputs": [
    {
     "data": {
      "text/plain": [
       "[[0.30444955825805664, 0.45080530643463135, -7.121384015817966e-08],\n",
       " [0.3384465277194977, 0.3794495463371277, -0.016618303954601288],\n",
       " [0.3833870589733124, 0.3324619233608246, -0.02927333489060402],\n",
       " [0.4166782796382904, 0.2865681052207947, -0.038279756903648376],\n",
       " [0.42884016036987305, 0.23290760815143585, -0.04755684360861778],\n",
       " [0.4070990979671478, 0.4306507110595703, -0.04064521938562393],\n",
       " [0.4733012914657593, 0.4224329888820648, -0.05395684763789177],\n",
       " [0.5125592350959778, 0.42025884985923767, -0.05970015004277229],\n",
       " [0.5444183349609375, 0.4189758002758026, -0.06326735764741898],\n",
       " [0.41183561086654663, 0.4936160743236542, -0.03468747437000275],\n",
       " [0.4661111533641815, 0.45080047845840454, -0.049312181770801544],\n",
       " [0.4577603340148926, 0.4182898998260498, -0.04675343260169029],\n",
       " [0.441742867231369, 0.40924400091171265, -0.04250340536236763],\n",
       " [0.41084909439086914, 0.53336501121521, -0.027458036318421364],\n",
       " [0.4545900225639343, 0.4835107624530792, -0.03781901299953461],\n",
       " [0.44556427001953125, 0.45514845848083496, -0.028918353840708733],\n",
       " [0.42846032977104187, 0.4490756392478943, -0.020563827827572823],\n",
       " [0.40930697321891785, 0.5567466616630554, -0.021029211580753326],\n",
       " [0.44214528799057007, 0.5144668817520142, -0.024950671941041946],\n",
       " [0.4336851239204407, 0.4878154397010803, -0.016717467457056046],\n",
       " [0.4189932644367218, 0.4811285138130188, -0.009143097326159477]]"
      ]
     },
     "execution_count": 23,
     "metadata": {},
     "output_type": "execute_result"
    }
   ],
   "source": [
    "[[l.x, l.y, l.z] for l in target_result.multi_hand_landmarks[0].landmark]"
   ]
  },
  {
   "cell_type": "markdown",
   "metadata": {},
   "source": [
    "## mediapipe"
   ]
  },
  {
   "cell_type": "code",
   "execution_count": 45,
   "metadata": {},
   "outputs": [],
   "source": [
    "def compare_hand(series_a, series_b):\n",
    "    # frame_num, joint_num, 3(x,y,z)\n",
    "    sim = 0\n",
    "    for joint_a, joint_b in zip(series_a, series_b):\n",
    "        dist, _, _, _ = accelerated_dtw(joint_a, joint_b, dist=euclidean)\n",
    "        sim += dist\n",
    "    sim /= len(series_a)\n",
    "    return sim"
   ]
  },
  {
   "cell_type": "code",
   "execution_count": 46,
   "metadata": {},
   "outputs": [
    {
     "ename": "NameError",
     "evalue": "name 'cosine' is not defined",
     "output_type": "error",
     "traceback": [
      "\u001b[0;31m---------------------------------------------------------------------------\u001b[0m",
      "\u001b[0;31mNameError\u001b[0m                                 Traceback (most recent call last)",
      "Cell \u001b[0;32mIn[46], line 5\u001b[0m\n\u001b[1;32m      2\u001b[0m time_series_a \u001b[38;5;241m=\u001b[39m np\u001b[38;5;241m.\u001b[39mrandom\u001b[38;5;241m.\u001b[39mrand(frames,\u001b[38;5;241m21\u001b[39m,\u001b[38;5;241m3\u001b[39m)\n\u001b[1;32m      3\u001b[0m time_series_b \u001b[38;5;241m=\u001b[39m np\u001b[38;5;241m.\u001b[39mrandom\u001b[38;5;241m.\u001b[39mrand(frames,\u001b[38;5;241m21\u001b[39m,\u001b[38;5;241m3\u001b[39m)\n\u001b[0;32m----> 5\u001b[0m sim\u001b[38;5;241m=\u001b[39m\u001b[43mcompare_hand\u001b[49m\u001b[43m(\u001b[49m\u001b[43mtime_series_a\u001b[49m\u001b[43m,\u001b[49m\u001b[43mtime_series_b\u001b[49m\u001b[43m)\u001b[49m\n\u001b[1;32m      6\u001b[0m \u001b[38;5;28mprint\u001b[39m(sim)\n",
      "Cell \u001b[0;32mIn[45], line 5\u001b[0m, in \u001b[0;36mcompare_hand\u001b[0;34m(series_a, series_b)\u001b[0m\n\u001b[1;32m      3\u001b[0m sim \u001b[38;5;241m=\u001b[39m \u001b[38;5;241m0\u001b[39m\n\u001b[1;32m      4\u001b[0m \u001b[38;5;28;01mfor\u001b[39;00m joint_a, joint_b \u001b[38;5;129;01min\u001b[39;00m \u001b[38;5;28mzip\u001b[39m(series_a, series_b):\n\u001b[0;32m----> 5\u001b[0m     dist, _, _, _ \u001b[38;5;241m=\u001b[39m accelerated_dtw(joint_a, joint_b, dist\u001b[38;5;241m=\u001b[39m\u001b[43mcosine\u001b[49m)\n\u001b[1;32m      6\u001b[0m     sim \u001b[38;5;241m+\u001b[39m\u001b[38;5;241m=\u001b[39m dist\n\u001b[1;32m      7\u001b[0m sim \u001b[38;5;241m/\u001b[39m\u001b[38;5;241m=\u001b[39m \u001b[38;5;28mlen\u001b[39m(series_a)\n",
      "\u001b[0;31mNameError\u001b[0m: name 'cosine' is not defined"
     ]
    }
   ],
   "source": [
    "frames=30\n",
    "time_series_a = np.random.rand(frames,21,3)\n",
    "time_series_b = np.random.rand(frames,21,3)\n",
    "\n",
    "sim=compare_hand(time_series_a,time_series_b)\n",
    "print(sim)"
   ]
  },
  {
   "cell_type": "code",
   "execution_count": null,
   "metadata": {},
   "outputs": [],
   "source": []
  },
  {
   "cell_type": "code",
   "execution_count": 36,
   "metadata": {},
   "outputs": [
    {
     "data": {
      "image/png": "[encoded data removed]",
      "text/plain": [
       "<Figure size 1200x800 with 1 Axes>"
      ]
     },
     "metadata": {},
     "output_type": "display_data"
    }
   ],
   "source": [
    "from io import BytesIO\n",
    "from PIL import Image\n",
    "from dtw import accelerated_dtw\n",
    "import os\n",
    "from scipy.spatial.distance import euclidean\n",
    "import matplotlib.pyplot as plt\n",
    "\n",
    "# current 3x21\n",
    "# guide 3x21\n",
    "# 랜덤 시계열 데이터\n",
    "np.random.seed(0)\n",
    "time_series_a = np.cumsum(np.random.rand(20) * 2 - 1)\n",
    "time_series_b = np.cumsum(np.random.rand(30) * 2 - 1 + np.sin(np.linspace(0, 3 * np.pi, 30)))\n",
    "\n",
    "plt.figure(figsize=(12, 8))\n",
    "\n",
    "# Original Time Series Plot\n",
    "ax1 = plt.subplot2grid((2, 2), (0, 0))\n",
    "ax1.plot(time_series_a, label='Series A', color='blue')\n",
    "ax1.plot(time_series_b, label='Series B', linestyle='--',color='orange')\n",
    "ax1.set_title('Original Time Series')\n",
    "ax1.legend()\n",
    "plt.show()"
   ]
  },
  {
   "cell_type": "code",
   "execution_count": null,
   "metadata": {},
   "outputs": [],
   "source": [
    "dist, _, _, _ = accelerated_dtw(current_frame_landmarks, guide_frame_landmarks, dist=euclidean)"
   ]
  },
  {
   "cell_type": "code",
   "execution_count": 29,
   "metadata": {},
   "outputs": [],
   "source": [
    "def calculate_similarity(target_landmarks, web_landmarks):    \n",
    "    if target_landmarks is not None and web_landmarks is not None:\n",
    "        hand1 = target_landmarks[0]\n",
    "        hand2 = web_landmarks[0]\n",
    "        # 유사도 계산\n",
    "        hand1_flat = hand1.flatten().reshape(1, -1)\n",
    "        hand2_flat = hand2.flatten().reshape(1, -1)\n",
    "        similarity = cosine_similarity(hand1_flat, hand2_flat)[0][0]\n",
    "        return similarity\n",
    "    return 0"
   ]
  },
  {
   "cell_type": "code",
   "execution_count": 27,
   "metadata": {},
   "outputs": [
    {
     "data": {
      "text/plain": [
       "2"
      ]
     },
     "execution_count": 27,
     "metadata": {},
     "output_type": "execute_result"
    }
   ],
   "source": [
    "len(landmarks_2)"
   ]
  },
  {
   "cell_type": "code",
   "execution_count": 31,
   "metadata": {},
   "outputs": [
    {
     "name": "stderr",
     "output_type": "stream",
     "text": [
      "I0000 00:00:1724225868.189500       1 gl_context.cc:344] GL version: 2.1 (2.1 Metal - 88.1), renderer: Apple M1\n"
     ]
    },
    {
     "ename": "ValueError",
     "evalue": "Found array with dim 3. check_pairwise_arrays expected <= 2.",
     "output_type": "error",
     "traceback": [
      "\u001b[0;31m---------------------------------------------------------------------------\u001b[0m",
      "\u001b[0;31mValueError\u001b[0m                                Traceback (most recent call last)",
      "Cell \u001b[0;32mIn[31], line 69\u001b[0m\n\u001b[1;32m     67\u001b[0m sim \u001b[38;5;241m=\u001b[39m \u001b[38;5;241m0\u001b[39m\n\u001b[1;32m     68\u001b[0m \u001b[38;5;28;01mif\u001b[39;00m \u001b[38;5;28mlen\u001b[39m(landmarks_1)\u001b[38;5;241m>\u001b[39m\u001b[38;5;241m1\u001b[39m \u001b[38;5;129;01mand\u001b[39;00m \u001b[38;5;28mlen\u001b[39m(landmarks_2)\u001b[38;5;241m>\u001b[39m\u001b[38;5;241m1\u001b[39m:\n\u001b[0;32m---> 69\u001b[0m     sim \u001b[38;5;241m=\u001b[39m \u001b[43mcosine_similarity\u001b[49m\u001b[43m(\u001b[49m\u001b[43mlandmarks_1\u001b[49m\u001b[43m,\u001b[49m\u001b[43m \u001b[49m\u001b[43mlandmarks_2\u001b[49m\u001b[43m)\u001b[49m\n\u001b[1;32m     70\u001b[0m cv2\u001b[38;5;241m.\u001b[39mputText(web_frame, \u001b[38;5;124mf\u001b[39m\u001b[38;5;124m'\u001b[39m\u001b[38;5;124mSimilarity: \u001b[39m\u001b[38;5;132;01m{\u001b[39;00msim\u001b[38;5;132;01m:\u001b[39;00m\u001b[38;5;124m.2f\u001b[39m\u001b[38;5;132;01m}\u001b[39;00m\u001b[38;5;124m'\u001b[39m, (\u001b[38;5;241m400\u001b[39m, \u001b[38;5;241m30\u001b[39m), cv2\u001b[38;5;241m.\u001b[39mFONT_HERSHEY_SIMPLEX, \u001b[38;5;241m1\u001b[39m, (\u001b[38;5;241m255\u001b[39m, \u001b[38;5;241m0\u001b[39m, \u001b[38;5;241m0\u001b[39m), \u001b[38;5;241m2\u001b[39m)\n\u001b[1;32m     72\u001b[0m \u001b[38;5;66;03m# 화면에 프레임 표시\u001b[39;00m\n",
      "File \u001b[0;32m/opt/homebrew/Caskroom/miniforge/base/envs/tech4good/lib/python3.8/site-packages/sklearn/metrics/pairwise.py:1377\u001b[0m, in \u001b[0;36mcosine_similarity\u001b[0;34m(X, Y, dense_output)\u001b[0m\n\u001b[1;32m   1342\u001b[0m \u001b[38;5;250m\u001b[39m\u001b[38;5;124;03m\"\"\"Compute cosine similarity between samples in X and Y.\u001b[39;00m\n\u001b[1;32m   1343\u001b[0m \n\u001b[1;32m   1344\u001b[0m \u001b[38;5;124;03mCosine similarity, or the cosine kernel, computes similarity as the\u001b[39;00m\n\u001b[0;32m   (...)\u001b[0m\n\u001b[1;32m   1373\u001b[0m \u001b[38;5;124;03m    Returns the cosine similarity between samples in X and Y.\u001b[39;00m\n\u001b[1;32m   1374\u001b[0m \u001b[38;5;124;03m\"\"\"\u001b[39;00m\n\u001b[1;32m   1375\u001b[0m \u001b[38;5;66;03m# to avoid recursive import\u001b[39;00m\n\u001b[0;32m-> 1377\u001b[0m X, Y \u001b[38;5;241m=\u001b[39m \u001b[43mcheck_pairwise_arrays\u001b[49m\u001b[43m(\u001b[49m\u001b[43mX\u001b[49m\u001b[43m,\u001b[49m\u001b[43m \u001b[49m\u001b[43mY\u001b[49m\u001b[43m)\u001b[49m\n\u001b[1;32m   1379\u001b[0m X_normalized \u001b[38;5;241m=\u001b[39m normalize(X, copy\u001b[38;5;241m=\u001b[39m\u001b[38;5;28;01mTrue\u001b[39;00m)\n\u001b[1;32m   1380\u001b[0m \u001b[38;5;28;01mif\u001b[39;00m X \u001b[38;5;129;01mis\u001b[39;00m Y:\n",
      "File \u001b[0;32m/opt/homebrew/Caskroom/miniforge/base/envs/tech4good/lib/python3.8/site-packages/sklearn/metrics/pairwise.py:155\u001b[0m, in \u001b[0;36mcheck_pairwise_arrays\u001b[0;34m(X, Y, precomputed, dtype, accept_sparse, force_all_finite, copy)\u001b[0m\n\u001b[1;32m    146\u001b[0m     X \u001b[38;5;241m=\u001b[39m Y \u001b[38;5;241m=\u001b[39m check_array(\n\u001b[1;32m    147\u001b[0m         X,\n\u001b[1;32m    148\u001b[0m         accept_sparse\u001b[38;5;241m=\u001b[39maccept_sparse,\n\u001b[0;32m   (...)\u001b[0m\n\u001b[1;32m    152\u001b[0m         estimator\u001b[38;5;241m=\u001b[39mestimator,\n\u001b[1;32m    153\u001b[0m     )\n\u001b[1;32m    154\u001b[0m \u001b[38;5;28;01melse\u001b[39;00m:\n\u001b[0;32m--> 155\u001b[0m     X \u001b[38;5;241m=\u001b[39m \u001b[43mcheck_array\u001b[49m\u001b[43m(\u001b[49m\n\u001b[1;32m    156\u001b[0m \u001b[43m        \u001b[49m\u001b[43mX\u001b[49m\u001b[43m,\u001b[49m\n\u001b[1;32m    157\u001b[0m \u001b[43m        \u001b[49m\u001b[43maccept_sparse\u001b[49m\u001b[38;5;241;43m=\u001b[39;49m\u001b[43maccept_sparse\u001b[49m\u001b[43m,\u001b[49m\n\u001b[1;32m    158\u001b[0m \u001b[43m        \u001b[49m\u001b[43mdtype\u001b[49m\u001b[38;5;241;43m=\u001b[39;49m\u001b[43mdtype\u001b[49m\u001b[43m,\u001b[49m\n\u001b[1;32m    159\u001b[0m \u001b[43m        \u001b[49m\u001b[43mcopy\u001b[49m\u001b[38;5;241;43m=\u001b[39;49m\u001b[43mcopy\u001b[49m\u001b[43m,\u001b[49m\n\u001b[1;32m    160\u001b[0m \u001b[43m        \u001b[49m\u001b[43mforce_all_finite\u001b[49m\u001b[38;5;241;43m=\u001b[39;49m\u001b[43mforce_all_finite\u001b[49m\u001b[43m,\u001b[49m\n\u001b[1;32m    161\u001b[0m \u001b[43m        \u001b[49m\u001b[43mestimator\u001b[49m\u001b[38;5;241;43m=\u001b[39;49m\u001b[43mestimator\u001b[49m\u001b[43m,\u001b[49m\n\u001b[1;32m    162\u001b[0m \u001b[43m    \u001b[49m\u001b[43m)\u001b[49m\n\u001b[1;32m    163\u001b[0m     Y \u001b[38;5;241m=\u001b[39m check_array(\n\u001b[1;32m    164\u001b[0m         Y,\n\u001b[1;32m    165\u001b[0m         accept_sparse\u001b[38;5;241m=\u001b[39maccept_sparse,\n\u001b[0;32m   (...)\u001b[0m\n\u001b[1;32m    169\u001b[0m         estimator\u001b[38;5;241m=\u001b[39mestimator,\n\u001b[1;32m    170\u001b[0m     )\n\u001b[1;32m    172\u001b[0m \u001b[38;5;28;01mif\u001b[39;00m precomputed:\n",
      "File \u001b[0;32m/opt/homebrew/Caskroom/miniforge/base/envs/tech4good/lib/python3.8/site-packages/sklearn/utils/validation.py:893\u001b[0m, in \u001b[0;36mcheck_array\u001b[0;34m(array, accept_sparse, accept_large_sparse, dtype, order, copy, force_all_finite, ensure_2d, allow_nd, ensure_min_samples, ensure_min_features, estimator, input_name)\u001b[0m\n\u001b[1;32m    887\u001b[0m     \u001b[38;5;28;01mraise\u001b[39;00m \u001b[38;5;167;01mValueError\u001b[39;00m(\n\u001b[1;32m    888\u001b[0m         \u001b[38;5;124m\"\u001b[39m\u001b[38;5;124mdtype=\u001b[39m\u001b[38;5;124m'\u001b[39m\u001b[38;5;124mnumeric\u001b[39m\u001b[38;5;124m'\u001b[39m\u001b[38;5;124m is not compatible with arrays of bytes/strings.\u001b[39m\u001b[38;5;124m\"\u001b[39m\n\u001b[1;32m    889\u001b[0m         \u001b[38;5;124m\"\u001b[39m\u001b[38;5;124mConvert your data to numeric values explicitly instead.\u001b[39m\u001b[38;5;124m\"\u001b[39m\n\u001b[1;32m    890\u001b[0m     )\n\u001b[1;32m    892\u001b[0m \u001b[38;5;28;01mif\u001b[39;00m \u001b[38;5;129;01mnot\u001b[39;00m allow_nd \u001b[38;5;129;01mand\u001b[39;00m array\u001b[38;5;241m.\u001b[39mndim \u001b[38;5;241m>\u001b[39m\u001b[38;5;241m=\u001b[39m \u001b[38;5;241m3\u001b[39m:\n\u001b[0;32m--> 893\u001b[0m     \u001b[38;5;28;01mraise\u001b[39;00m \u001b[38;5;167;01mValueError\u001b[39;00m(\n\u001b[1;32m    894\u001b[0m         \u001b[38;5;124m\"\u001b[39m\u001b[38;5;124mFound array with dim \u001b[39m\u001b[38;5;132;01m%d\u001b[39;00m\u001b[38;5;124m. \u001b[39m\u001b[38;5;132;01m%s\u001b[39;00m\u001b[38;5;124m expected <= 2.\u001b[39m\u001b[38;5;124m\"\u001b[39m\n\u001b[1;32m    895\u001b[0m         \u001b[38;5;241m%\u001b[39m (array\u001b[38;5;241m.\u001b[39mndim, estimator_name)\n\u001b[1;32m    896\u001b[0m     )\n\u001b[1;32m    898\u001b[0m \u001b[38;5;28;01mif\u001b[39;00m force_all_finite:\n\u001b[1;32m    899\u001b[0m     _assert_all_finite(\n\u001b[1;32m    900\u001b[0m         array,\n\u001b[1;32m    901\u001b[0m         input_name\u001b[38;5;241m=\u001b[39minput_name,\n\u001b[1;32m    902\u001b[0m         estimator_name\u001b[38;5;241m=\u001b[39mestimator_name,\n\u001b[1;32m    903\u001b[0m         allow_nan\u001b[38;5;241m=\u001b[39mforce_all_finite \u001b[38;5;241m==\u001b[39m \u001b[38;5;124m\"\u001b[39m\u001b[38;5;124mallow-nan\u001b[39m\u001b[38;5;124m\"\u001b[39m,\n\u001b[1;32m    904\u001b[0m     )\n",
      "\u001b[0;31mValueError\u001b[0m: Found array with dim 3. check_pairwise_arrays expected <= 2."
     ]
    }
   ],
   "source": [
    "import time\n",
    "\n",
    "# Mediapipe 손 모델 초기화\n",
    "mp_hands = mp.solutions.hands\n",
    "mp_drawing = mp.solutions.drawing_utils\n",
    "\n",
    "# 색상 및 두께 지정\n",
    "landmark_drawing_spec = mp_drawing.DrawingSpec(color=colors[\"purple_2\"], thickness=2) \n",
    "connection_drawing_spec = mp_drawing.DrawingSpec(color=colors[\"purple_1\"], thickness=2) \n",
    "\n",
    "\n",
    "# 비디오 파일 경로\n",
    "video_path = \"../demo.mp4\"  # 여기에 비디오 파일 경로를 입력하세요\n",
    "target_cap = cv2.VideoCapture(video_path)\n",
    "web_cap = cv2.VideoCapture(0)\n",
    "web_cap.set(cv2.CAP_PROP_FRAME_WIDTH, 640)  # 가로 해상도\n",
    "web_cap.set(cv2.CAP_PROP_FRAME_HEIGHT, 360)  # 세로 해상도\n",
    "\n",
    "# 프레임 속도 설정 (예: 30 FPS)\n",
    "web_cap.set(cv2.CAP_PROP_FPS, 10)  # 초당 프레임 수\n",
    "# 첫 번째 프레임 읽기\n",
    "ret, first_frame = target_cap.read()\n",
    "\n",
    "start_time = time.time()\n",
    "while(True):\n",
    "    with mp_hands.Hands(max_num_hands=2, min_detection_confidence=0.7, min_tracking_confidence=0.7) as hands:\n",
    "        while web_cap.isOpened():\n",
    "            target_ret, target_frame = target_cap.read()\n",
    "            web_ret, web_frame = web_cap.read()\n",
    "            if not web_ret:\n",
    "                break\n",
    "            if not target_ret:\n",
    "                break\n",
    "\n",
    "            # 타겟 손 랜드마크 추출\n",
    "            target_rgb = cv2.cvtColor(target_frame, cv2.COLOR_BGR2RGB)\n",
    "            web_rgb = cv2.cvtColor(web_frame, cv2.COLOR_BGR2RGB)\n",
    "            target_result = hands.process(target_rgb)\n",
    "            web_result = hands.process(web_rgb)\n",
    "            \n",
    "            # 운동 시간 출력   \n",
    "            current_time = time.time()\n",
    "            elapsed_time = time.time() - start_time\n",
    "            \n",
    "            # 경과 시간을 분:초 형식으로 변환\n",
    "            hours = int(elapsed_time//3600)\n",
    "            minutes = int(elapsed_time // 60)\n",
    "            seconds = int(elapsed_time % 60)\n",
    "            time_text = f'Time: :{minutes:02}:{seconds:02}'     \n",
    "            cv2.putText(web_frame, time_text, (10, 30), cv2.FONT_HERSHEY_SIMPLEX, 1, (255, 255, 255), 2)\n",
    "\n",
    "            landmarks_1 = []\n",
    "            landmarks_2 = []\n",
    "            # 재활자의 랜드마크 표시\n",
    "            if web_result.multi_hand_landmarks:\n",
    "                for web_landmarks in web_result.multi_hand_landmarks:\n",
    "                    mp_drawing.draw_landmarks(web_frame, web_landmarks, mp_hands.HAND_CONNECTIONS, landmark_drawing_spec, connection_drawing_spec)\n",
    "                    landmarks_1.append([[l.x, l.y, l.z] for l in web_landmarks.landmark])\n",
    "                    \n",
    "            # 타겟 랜드마크 표시\n",
    "            if target_result.multi_hand_landmarks:\n",
    "                for target_landmarks in target_result.multi_hand_landmarks:\n",
    "                    # mp_drawing.draw_landmarks(target_frame, hand_landmarks, mp_hands.HAND_CONNECTIONS)\n",
    "                    mp_drawing.draw_landmarks(web_frame, target_landmarks, mp_hands.HAND_CONNECTIONS)\n",
    "                    landmarks_2.append([[l.x, l.y, l.z] for l in target_landmarks.landmark])\n",
    "                    \n",
    "            sim = 0\n",
    "            if len(landmarks_1)>1 and len(landmarks_2)>1:\n",
    "                sim = cosine_similarity(landmarks_1, landmarks_2)\n",
    "            cv2.putText(web_frame, f'Similarity: {sim:.2f}', (400, 30), cv2.FONT_HERSHEY_SIMPLEX, 1, (255, 0, 0), 2)\n",
    "            \n",
    "            # 화면에 프레임 표시\n",
    "            cv2.imshow('Hand Tracking', web_frame)\n",
    "\n",
    "            if cv2.waitKey(1) & 0xFF == ord('q'):\n",
    "                target_cap.release()\n",
    "                cv2.destroyAllWindows()\n",
    "                exit()\n",
    "    target_cap.release()\n",
    "cv2.destroyAllWindows()\n",
    "end_time=time.time()\n",
    "\n"
   ]
  },
  {
   "cell_type": "markdown",
   "metadata": {},
   "source": [
    "### 입력된 비디오의 두손 유사도"
   ]
  },
  {
   "cell_type": "code",
   "execution_count": null,
   "metadata": {},
   "outputs": [
    {
     "name": "stderr",
     "output_type": "stream",
     "text": [
      "I0000 00:00:1724215070.474400       1 gl_context.cc:344] GL version: 2.1 (2.1 Metal - 88.1), renderer: Apple M1\n"
     ]
    }
   ],
   "source": [
    "# Mediapipe 손 모델 초기화\n",
    "mp_hands = mp.solutions.hands\n",
    "mp_drawing = mp.solutions.drawing_utils\n",
    "\n",
    "# 비디오 캡처 초기화\n",
    "target_cap = cv2.VideoCapture(0)\n",
    "\n",
    "with mp_hands.Hands(max_num_hands=2, min_detection_confidence=0.7, min_tracking_confidence=0.7) as hands:\n",
    "    while target_cap.isOpened():\n",
    "        target_ret, target_frame = target_cap.read()\n",
    "        if not target_ret:\n",
    "            break\n",
    "\n",
    "        # 손 랜드마크 추출\n",
    "        hand_landmarks = get_hand_landmarks(target_frame, hands)\n",
    "\n",
    "        # 손 유사도 계산 (두 손이 모두 인식된 경우)\n",
    "        if hand_landmarks is not None and len(hand_landmarks) == 42:  # 두 손 모두 21개 랜드마크씩 총 42개\n",
    "            hand1 = hand_landmarks[:21]\n",
    "            hand2 = hand_landmarks[21:]\n",
    "            similarity = calculate_similarity(hand1, hand2)\n",
    "            cv2.putText(target_frame, f'Similarity: {similarity:.2f}', (10, 30), cv2.FONT_HERSHEY_SIMPLEX, 1, (255, 0, 0), 2)\n",
    "\n",
    "        # 랜드마크 시각화\n",
    "        # if hand_landmarks is not None:\n",
    "        #     for hand_landmark in hand_landmarks.reshape(-1, 21, 3):\n",
    "        #         mp_drawing.draw_landmarks(frame, mp_hands.HandLandmarkList(landmark=hand_landmark))\n",
    "\n",
    "        cv2.imshow('Hand Tracking', target_frame)\n",
    "\n",
    "        if cv2.waitKey(1) & 0xFF == ord('q'):\n",
    "            break\n",
    "\n",
    "target_cap.release()\n",
    "cv2.destroyAllWindows()"
   ]
  },
  {
   "cell_type": "code",
   "execution_count": null,
   "metadata": {},
   "outputs": [],
   "source": []
  }
 ],
 "metadata": {
  "kernelspec": {
   "display_name": "tech4good",
   "language": "python",
   "name": "python3"
  },
  "language_info": {
   "codemirror_mode": {
    "name": "ipython",
    "version": 3
   },
   "file_extension": ".py",
   "mimetype": "text/x-python",
   "name": "python",
   "nbconvert_exporter": "python",
   "pygments_lexer": "ipython3",
   "version": "3.8.13"
  }
 },
 "nbformat": 4,
 "nbformat_minor": 2
}
